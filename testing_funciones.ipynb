{
 "cells": [
  {
   "cell_type": "markdown",
   "metadata": {},
   "source": [
    "# PRELOAD"
   ]
  },
  {
   "cell_type": "code",
   "execution_count": 1,
   "metadata": {},
   "outputs": [],
   "source": [
    "from typing import Dict\n",
    "import pandas as pd"
   ]
  },
  {
   "cell_type": "code",
   "execution_count": 2,
   "metadata": {},
   "outputs": [],
   "source": [
    "df_cast = pd.read_parquet(\"https://github.com/alejocampos1/Henry_PI1_Alejandro-Campos/raw/main/Datasets/Datasets_Limpios/Parquet/cast.parquet\")\n",
    "df_collections = pd.read_parquet(\"https://github.com/alejocampos1/Henry_PI1_Alejandro-Campos/raw/main/Datasets/Datasets_Limpios/Parquet/collections.parquet\")\n",
    "df_crew = pd.read_parquet(\"https://github.com/alejocampos1/Henry_PI1_Alejandro-Campos/raw/main/Datasets/Datasets_Limpios/Parquet/crew.parquet\")\n",
    "df_genres = pd.read_parquet(\"https://github.com/alejocampos1/Henry_PI1_Alejandro-Campos/raw/main/Datasets/Datasets_Limpios/Parquet/genres.parquet\")\n",
    "df_movies = pd.read_parquet(\"https://github.com/alejocampos1/Henry_PI1_Alejandro-Campos/raw/main/Datasets/Datasets_Limpios/Parquet/movies.parquet\")\n",
    "df_prodcompanies = pd.read_parquet(\"https://github.com/alejocampos1/Henry_PI1_Alejandro-Campos/raw/main/Datasets/Datasets_Limpios/Parquet/prodcompanies.parquet\")\n",
    "df_prodcountries = pd.read_parquet(\"https://github.com/alejocampos1/Henry_PI1_Alejandro-Campos/raw/main/Datasets/Datasets_Limpios/Parquet/prodcountries.parquet\")"
   ]
  },
  {
   "cell_type": "markdown",
   "metadata": {},
   "source": [
    "# TESTING"
   ]
  },
  {
   "cell_type": "code",
   "execution_count": 3,
   "metadata": {},
   "outputs": [
    {
     "name": "stdout",
     "output_type": "stream",
     "text": [
      "<class 'pandas.core.frame.DataFrame'>\n",
      "Index: 45376 entries, 0 to 45465\n",
      "Data columns (total 20 columns):\n",
      " #   Column                 Non-Null Count  Dtype         \n",
      "---  ------                 --------------  -----         \n",
      " 0   id                     45376 non-null  object        \n",
      " 1   title                  45376 non-null  object        \n",
      " 2   genres                 45376 non-null  object        \n",
      " 3   overview               44435 non-null  object        \n",
      " 4   tagline                20398 non-null  object        \n",
      " 5   runtime                45130 non-null  float64       \n",
      " 6   release_date           45376 non-null  datetime64[ns]\n",
      " 7   production_companies   45376 non-null  object        \n",
      " 8   belongs_to_collection  4480 non-null   Int64         \n",
      " 9   original_language      45365 non-null  object        \n",
      " 10  spoken_languages       45376 non-null  object        \n",
      " 11  budget                 45376 non-null  float64       \n",
      " 12  revenue                45376 non-null  float64       \n",
      " 13  status                 45296 non-null  object        \n",
      " 14  production_countries   45376 non-null  object        \n",
      " 15  popularity             45376 non-null  float64       \n",
      " 16  vote_average           45376 non-null  float64       \n",
      " 17  vote_count             45376 non-null  float64       \n",
      " 18  release_year           45376 non-null  Int64         \n",
      " 19  return                 45376 non-null  float64       \n",
      "dtypes: Int64(2), datetime64[ns](1), float64(7), object(10)\n",
      "memory usage: 7.4+ MB\n"
     ]
    }
   ],
   "source": [
    "df_movies.info()"
   ]
  },
  {
   "cell_type": "markdown",
   "metadata": {},
   "source": [
    "# FUNCION 1"
   ]
  },
  {
   "cell_type": "code",
   "execution_count": 4,
   "metadata": {},
   "outputs": [],
   "source": [
    "def cantidad_filmaciones_mes(mes: str) -> Dict[str, str]:\n",
    "    meses = {\n",
    "    \"enero\": 1, \"febrero\": 2, \"marzo\": 3, \"abril\": 4, \"mayo\": 5, \"junio\": 6, \"julio\": 7, \"agosto\": 8, \"septiembre\": 9, \"octubre\": 10, \"noviembre\": 11, \"diciembre\": 12\n",
    "    }\n",
    "    mes = mes.lower()\n",
    "    if mes not in meses:\n",
    "        return {'Ingrese un mes válido'}\n",
    "    numero_mes = meses.get(mes)\n",
    "    cantidad_peliculas = df_movies[df_movies['release_date'].dt.month == numero_mes]['release_date'].count()\n",
    "\n",
    "    return f\"{cantidad_peliculas} cantidad de películas fueron estrenadas en el mes de {mes}\""
   ]
  },
  {
   "cell_type": "code",
   "execution_count": 5,
   "metadata": {},
   "outputs": [
    {
     "data": {
      "text/plain": [
       "'5912 cantidad de películas fueron estrenadas en el mes de enero'"
      ]
     },
     "execution_count": 5,
     "metadata": {},
     "output_type": "execute_result"
    }
   ],
   "source": [
    "cantidad_filmaciones_mes('enero')"
   ]
  },
  {
   "cell_type": "markdown",
   "metadata": {},
   "source": [
    "# FUNCION 2"
   ]
  },
  {
   "cell_type": "code",
   "execution_count": 6,
   "metadata": {},
   "outputs": [],
   "source": [
    "def cantidad_filmaciones_dia(dia: str) -> Dict[str, str]:\n",
    "    dias_semana = {\n",
    "        \"lunes\": 0,\n",
    "        \"martes\": 1,\n",
    "        \"miércoles\": 2,\n",
    "        \"jueves\": 3,\n",
    "        \"viernes\": 4,\n",
    "        \"sábado\": 5,\n",
    "        \"domingo\": 6\n",
    "    }\n",
    "    \n",
    "    dia = dia.lower()\n",
    "    if dia not in dias_semana:\n",
    "        return 'Ingrese un día de la semana válido'\n",
    "    numero_dia = dias_semana.get(dia)\n",
    "    cantidad_peliculas = df_movies[df_movies['release_date'].dt.dayofweek == numero_dia]['release_date'].count()\n",
    "\n",
    "    return f\"{cantidad_peliculas} películas fueron estrenadas un {dia}\""
   ]
  },
  {
   "cell_type": "code",
   "execution_count": 7,
   "metadata": {},
   "outputs": [
    {
     "data": {
      "text/plain": [
       "'4641 películas fueron estrenadas un martes'"
      ]
     },
     "execution_count": 7,
     "metadata": {},
     "output_type": "execute_result"
    }
   ],
   "source": [
    "cantidad_filmaciones_dia('martes')"
   ]
  },
  {
   "cell_type": "markdown",
   "metadata": {},
   "source": [
    "# FUNCION 3"
   ]
  },
  {
   "cell_type": "code",
   "execution_count": 8,
   "metadata": {},
   "outputs": [],
   "source": [
    "def score_titulo(titulo: str) -> Dict[str, str]:\n",
    "    \n",
    "\n",
    "\n",
    "    return {\"mensaje\": f\"La película {titulo} fue estrenada en el año X con un score/popularidad de X\"}"
   ]
  },
  {
   "cell_type": "markdown",
   "metadata": {},
   "source": [
    "# FUNCION 4"
   ]
  },
  {
   "cell_type": "code",
   "execution_count": 9,
   "metadata": {},
   "outputs": [],
   "source": [
    "def normalizar_texto(texto: str) -> str:\n",
    "# Eliminar espacios en blanco al inicio y al final, y convertir a minúsculas\n",
    "    return ''.join(texto.split()).lower()\n",
    "\n",
    "def votos_titulo(titulo: str) -> Dict[str, str]:\n",
    "    # Normalizar el título ingresado por el usuario\n",
    "    titulo_normalizado = normalizar_texto(titulo)\n",
    "\n",
    "    # Filtrar las filas donde el título normalizado coincida\n",
    "    df_filtrado = df_movies[df_movies['title'].apply(normalizar_texto) == titulo_normalizado]\n",
    "\n",
    "    if not df_filtrado.empty:\n",
    "        # Obtener el número total de votos\n",
    "        vote_total = int(df_filtrado['vote_count'].iloc[0])\n",
    "        \n",
    "        # Si el total de votos es mayor o igual que 2000\n",
    "        if vote_total >= 2000:\n",
    "            # Obtener el valor de la votación promedio\n",
    "            vote_average = df_filtrado['vote_average'].iloc[0]\n",
    "            \n",
    "            # Obtener el título original\n",
    "            titulo_original = df_filtrado['title'].iloc[0]\n",
    "                    \n",
    "            # Retornar el mensaje con la información\n",
    "            return {\"mensaje\": f\"La película '{titulo_original}' tiene {vote_total} valoraciones con un promedio de {vote_average}\"}\n",
    "        else:\n",
    "            # Retornar mensaje si la película tiene menos de 2000 votos\n",
    "            return {\"mensaje\": f\"El título '{titulo}' contiene menos de 2000 valoraciones.\"}\n",
    "    else:\n",
    "        # Retornar mensaje si el título no existe\n",
    "        return {\"mensaje\": \"Por favor, ingrese un título válido.\"}"
   ]
  },
  {
   "cell_type": "code",
   "execution_count": 10,
   "metadata": {},
   "outputs": [
    {
     "data": {
      "text/plain": [
       "{'mensaje': \"La película 'Ghostbusters' tiene 2431 valoraciones con un promedio de 7.3\"}"
      ]
     },
     "execution_count": 10,
     "metadata": {},
     "output_type": "execute_result"
    }
   ],
   "source": [
    "votos_titulo('ghostbusters')"
   ]
  },
  {
   "cell_type": "markdown",
   "metadata": {},
   "source": [
    "# FUNCION 5"
   ]
  },
  {
   "cell_type": "code",
   "execution_count": 19,
   "metadata": {},
   "outputs": [],
   "source": [
    "def get_actor(nombre_actor: str) -> Dict[str, str]:\n",
    "    # Normalizar el nombre ingresado por el usuario\n",
    "    nombre_normalizado = normalizar_texto(nombre_actor)\n",
    "    \n",
    "    # Filtrar las filas donde el nombre normalizado coincida\n",
    "    df_actor_filtrado = df_cast[df_cast['nombre'].apply(normalizar_texto) == nombre_normalizado]\n",
    "\n",
    "    # Verificar si se encontró el actor antes de acceder a los datos\n",
    "    if df_actor_filtrado.empty:\n",
    "        return {\"mensaje\": \"Por favor, ingrese un nombre de actor o actriz válido.\"}\n",
    "    \n",
    "    # Obtener el nombre original del actor\n",
    "    nombre_original = df_actor_filtrado['nombre'].iloc[0]\n",
    "    \n",
    "    # Obtener los IDs de las películas del actor y la cantidad de películas únicas\n",
    "    peliculas_actor = df_actor_filtrado['idPelicula'].unique()\n",
    "    \n",
    "    # Número de películas únicas\n",
    "    num_peliculas = len(peliculas_actor)\n",
    "    \n",
    "    if num_peliculas == 0:\n",
    "        return {\"mensaje\": f\"{nombre_original} no tiene películas registradas.\"}\n",
    "    \n",
    "    # Convertir df_movies['id'] a int\n",
    "    df_movies['id'] = df_movies['id'].astype(int)\n",
    "    \n",
    "    # Filtrar las películas en df_movies usando los ids en peliculas_actor\n",
    "    retorno_peliculas_actor = df_movies[df_movies['id'].isin(peliculas_actor)]['return']\n",
    "    \n",
    "    # Calcular el total de retorno\n",
    "    total_retorno = retorno_peliculas_actor.sum()\n",
    "    \n",
    "    # Calcular el promedio de retorno por película\n",
    "    total_promedio = total_retorno / num_peliculas if num_peliculas > 0 else 0\n",
    "    \n",
    "    # Devolver el mensaje con la información calculada\n",
    "    return {\n",
    "        \"mensaje\": f\"{nombre_original} ha participado en {num_peliculas} filmaciones, \"\n",
    "                   f\"ha conseguido un retorno total de {total_retorno} con un promedio de {total_promedio:.2f} por filmación.\"\n",
    "    }"
   ]
  },
  {
   "cell_type": "code",
   "execution_count": 20,
   "metadata": {},
   "outputs": [
    {
     "data": {
      "text/plain": [
       "{'mensaje': 'Tom Cruise ha participado en 47 filmaciones, ha conseguido un retorno total de 183.0450280877977 con un promedio de 3.89 por filmación.'}"
      ]
     },
     "execution_count": 20,
     "metadata": {},
     "output_type": "execute_result"
    }
   ],
   "source": [
    "get_actor('tomcruise')"
   ]
  },
  {
   "cell_type": "markdown",
   "metadata": {},
   "source": [
    "# FUNCION 6"
   ]
  },
  {
   "cell_type": "code",
   "execution_count": null,
   "metadata": {},
   "outputs": [],
   "source": [
    "def get_director(nombre_director: str) -> Dict[str, str]:\n",
    "    # Normalizar el nombre ingresado por el usuario\n",
    "    nombre_normalizado = normalizar_texto(nombre_director)\n",
    "    \n",
    "    # Filtrar las filas donde el nombre normalizado coincida\n",
    "    df_director_filtrado = df_crew[df_crew['nombre'].apply(normalizar_texto) == nombre_normalizado]\n",
    "\n",
    "    # Verificar si se encontró el actor antes de acceder a los datos\n",
    "    if df_director_filtrado.empty:\n",
    "        return {\"mensaje\": \"Por favor, ingrese un nombre de actor o actriz válido.\"}\n",
    "    \n",
    "    # Obtener el nombre original del actor\n",
    "    nombre_original = df_director_filtrado['nombre'].iloc[0]\n",
    "    \n",
    "    # Obtener los IDs de las películas del actor y la cantidad de películas únicas\n",
    "    peliculas_actor = df_director_filtrado['idPelicula'].unique()\n",
    "    \n",
    "    # Número de películas únicas\n",
    "    num_peliculas = len(peliculas_actor)\n",
    "    \n",
    "    if num_peliculas == 0:\n",
    "        return {\"mensaje\": f\"{nombre_original} no tiene películas registradas.\"}\n",
    "    \n",
    "    # Convertir df_movies['id'] a int\n",
    "    df_movies['id'] = df_movies['id'].astype(int)\n",
    "    \n",
    "    # Filtrar las películas en df_movies usando los ids en peliculas_actor\n",
    "    retorno_peliculas_actor = df_movies[df_movies['id'].isin(peliculas_actor)]['return']\n",
    "    \n",
    "    # Calcular el total de retorno\n",
    "    total_retorno = retorno_peliculas_actor.sum()\n",
    "    \n",
    "    # Calcular el promedio de retorno por película\n",
    "    total_promedio = total_retorno / num_peliculas if num_peliculas > 0 else 0\n",
    "    \n",
    "    # Devolver el mensaje con la información calculada\n",
    "    return {\n",
    "        \"mensaje\": f\"{nombre_original} ha participado en {num_peliculas} filmaciones, \"\n",
    "                   f\"ha conseguido un retorno total de {total_retorno} con un promedio de {total_promedio:.2f} por filmación.\"\n",
    "    }"
   ]
  }
 ],
 "metadata": {
  "kernelspec": {
   "display_name": "mlops_project",
   "language": "python",
   "name": "python3"
  },
  "language_info": {
   "codemirror_mode": {
    "name": "ipython",
    "version": 3
   },
   "file_extension": ".py",
   "mimetype": "text/x-python",
   "name": "python",
   "nbconvert_exporter": "python",
   "pygments_lexer": "ipython3",
   "version": "3.11.7"
  }
 },
 "nbformat": 4,
 "nbformat_minor": 2
}
