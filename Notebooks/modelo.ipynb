{
 "cells": [
  {
   "cell_type": "markdown",
   "metadata": {},
   "source": [
    "# Modelo Recomendación\n",
    "Se creará un modelo de recomendación de películas, basado en el dataset recibido, la salida retornará una lista de 5 películas similares recomendadas por el modelo según sus características, dado un título de una película perteneciente al dataset"
   ]
  },
  {
   "cell_type": "code",
   "execution_count": 1,
   "metadata": {},
   "outputs": [],
   "source": [
    "import pandas as pd"
   ]
  },
  {
   "cell_type": "markdown",
   "metadata": {},
   "source": [
    "## Preprocesamiento de datos"
   ]
  },
  {
   "cell_type": "markdown",
   "metadata": {},
   "source": [
    "Carga del dataset"
   ]
  },
  {
   "cell_type": "code",
   "execution_count": 2,
   "metadata": {},
   "outputs": [],
   "source": [
    "df_premodel = pd.read_parquet('../Datasets/Datasets_Limpios/Parquet/movies_tomodel')"
   ]
  },
  {
   "cell_type": "code",
   "execution_count": 3,
   "metadata": {},
   "outputs": [
    {
     "data": {
      "text/html": [
       "<div>\n",
       "<style scoped>\n",
       "    .dataframe tbody tr th:only-of-type {\n",
       "        vertical-align: middle;\n",
       "    }\n",
       "\n",
       "    .dataframe tbody tr th {\n",
       "        vertical-align: top;\n",
       "    }\n",
       "\n",
       "    .dataframe thead th {\n",
       "        text-align: right;\n",
       "    }\n",
       "</style>\n",
       "<table border=\"1\" class=\"dataframe\">\n",
       "  <thead>\n",
       "    <tr style=\"text-align: right;\">\n",
       "      <th></th>\n",
       "      <th>id</th>\n",
       "      <th>title</th>\n",
       "      <th>genres</th>\n",
       "      <th>overview</th>\n",
       "      <th>runtime</th>\n",
       "      <th>production_companies</th>\n",
       "      <th>spoken_languages</th>\n",
       "      <th>production_countries</th>\n",
       "      <th>popularity</th>\n",
       "      <th>vote_average</th>\n",
       "      <th>release_year</th>\n",
       "    </tr>\n",
       "  </thead>\n",
       "  <tbody>\n",
       "    <tr>\n",
       "      <th>0</th>\n",
       "      <td>862</td>\n",
       "      <td>Toy Story</td>\n",
       "      <td>[16, 35, 10751]</td>\n",
       "      <td>Led by Woody, Andy's toys live happily in his ...</td>\n",
       "      <td>81.0</td>\n",
       "      <td>[3]</td>\n",
       "      <td>[en]</td>\n",
       "      <td>[US]</td>\n",
       "      <td>21.946943</td>\n",
       "      <td>7.7</td>\n",
       "      <td>1995</td>\n",
       "    </tr>\n",
       "    <tr>\n",
       "      <th>1</th>\n",
       "      <td>8844</td>\n",
       "      <td>Jumanji</td>\n",
       "      <td>[12, 14, 10751]</td>\n",
       "      <td>When siblings Judy and Peter discover an encha...</td>\n",
       "      <td>104.0</td>\n",
       "      <td>[559, 2550, 10201]</td>\n",
       "      <td>[en, fr]</td>\n",
       "      <td>[US]</td>\n",
       "      <td>17.015539</td>\n",
       "      <td>6.9</td>\n",
       "      <td>1995</td>\n",
       "    </tr>\n",
       "    <tr>\n",
       "      <th>2</th>\n",
       "      <td>15602</td>\n",
       "      <td>Grumpier Old Men</td>\n",
       "      <td>[10749, 35]</td>\n",
       "      <td>A family wedding reignites the ancient feud be...</td>\n",
       "      <td>101.0</td>\n",
       "      <td>[6194, 19464]</td>\n",
       "      <td>[en]</td>\n",
       "      <td>[US]</td>\n",
       "      <td>11.712900</td>\n",
       "      <td>6.5</td>\n",
       "      <td>1995</td>\n",
       "    </tr>\n",
       "    <tr>\n",
       "      <th>3</th>\n",
       "      <td>31357</td>\n",
       "      <td>Waiting to Exhale</td>\n",
       "      <td>[35, 18, 10749]</td>\n",
       "      <td>Cheated on, mistreated and stepped on, the wom...</td>\n",
       "      <td>127.0</td>\n",
       "      <td>[306]</td>\n",
       "      <td>[en]</td>\n",
       "      <td>[US]</td>\n",
       "      <td>3.859495</td>\n",
       "      <td>6.1</td>\n",
       "      <td>1995</td>\n",
       "    </tr>\n",
       "    <tr>\n",
       "      <th>4</th>\n",
       "      <td>11862</td>\n",
       "      <td>Father of the Bride Part II</td>\n",
       "      <td>[35]</td>\n",
       "      <td>Just when George Banks has recovered from his ...</td>\n",
       "      <td>106.0</td>\n",
       "      <td>[5842, 9195]</td>\n",
       "      <td>[en]</td>\n",
       "      <td>[US]</td>\n",
       "      <td>8.387519</td>\n",
       "      <td>5.7</td>\n",
       "      <td>1995</td>\n",
       "    </tr>\n",
       "  </tbody>\n",
       "</table>\n",
       "</div>"
      ],
      "text/plain": [
       "      id                        title           genres  \\\n",
       "0    862                    Toy Story  [16, 35, 10751]   \n",
       "1   8844                      Jumanji  [12, 14, 10751]   \n",
       "2  15602             Grumpier Old Men      [10749, 35]   \n",
       "3  31357            Waiting to Exhale  [35, 18, 10749]   \n",
       "4  11862  Father of the Bride Part II             [35]   \n",
       "\n",
       "                                            overview  runtime  \\\n",
       "0  Led by Woody, Andy's toys live happily in his ...     81.0   \n",
       "1  When siblings Judy and Peter discover an encha...    104.0   \n",
       "2  A family wedding reignites the ancient feud be...    101.0   \n",
       "3  Cheated on, mistreated and stepped on, the wom...    127.0   \n",
       "4  Just when George Banks has recovered from his ...    106.0   \n",
       "\n",
       "  production_companies spoken_languages production_countries  popularity  \\\n",
       "0                  [3]             [en]                 [US]   21.946943   \n",
       "1   [559, 2550, 10201]         [en, fr]                 [US]   17.015539   \n",
       "2        [6194, 19464]             [en]                 [US]   11.712900   \n",
       "3                [306]             [en]                 [US]    3.859495   \n",
       "4         [5842, 9195]             [en]                 [US]    8.387519   \n",
       "\n",
       "   vote_average  release_year  \n",
       "0           7.7          1995  \n",
       "1           6.9          1995  \n",
       "2           6.5          1995  \n",
       "3           6.1          1995  \n",
       "4           5.7          1995  "
      ]
     },
     "execution_count": 3,
     "metadata": {},
     "output_type": "execute_result"
    }
   ],
   "source": [
    "df_premodel.head()"
   ]
  },
  {
   "cell_type": "code",
   "execution_count": null,
   "metadata": {},
   "outputs": [],
   "source": []
  },
  {
   "cell_type": "markdown",
   "metadata": {},
   "source": []
  }
 ],
 "metadata": {
  "kernelspec": {
   "display_name": "mlops_project",
   "language": "python",
   "name": "python3"
  },
  "language_info": {
   "codemirror_mode": {
    "name": "ipython",
    "version": 3
   },
   "file_extension": ".py",
   "mimetype": "text/x-python",
   "name": "python",
   "nbconvert_exporter": "python",
   "pygments_lexer": "ipython3",
   "version": "3.11.7"
  }
 },
 "nbformat": 4,
 "nbformat_minor": 2
}
